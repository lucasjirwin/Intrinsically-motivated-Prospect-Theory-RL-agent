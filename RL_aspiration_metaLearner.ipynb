{
  "cells": [
    {
      "cell_type": "markdown",
      "metadata": {
        "id": "view-in-github",
        "colab_type": "text"
      },
      "source": [
        "<a href=\"https://colab.research.google.com/github/lucasjirwin/Meta-Learning-aspiration-RL-agent/blob/main/RL_aspiration_metaLearner.ipynb\" target=\"_parent\"><img src=\"https://colab.research.google.com/assets/colab-badge.svg\" alt=\"Open In Colab\"/></a>"
      ]
    },
    {
      "cell_type": "markdown",
      "metadata": {
        "id": "ljiHsJtQ4THk"
      },
      "source": [
        "# **Senior Thesis Project:** Developing a meta-learning RL agent which sets its own aspiration level \n",
        "\n",
        "\n",
        "\n",
        "*   **DeepGridWorld class:** contains the grid-world environment with methods for taking a step in the environment, getting available actions and rewards, checking if a state is terminal and printing the agent on the map.\n",
        "*   **DeepQ_Agent class:** contains the Q-learning agent with methods for choosing an action, updating the Q-table (learning), and getting the aspiration.  \n",
        "*   **play function:** Runs iterations of the agent on the environment and updates the Q-table if required. \n",
        "\n",
        "\n",
        "**IN PROGRESS:**\n",
        "*   **Meta-learner:** PyTorch optimizer + module, backpropagation through the Q_table (modelled as a tensor). **Params:** aspiration, weight_1, weight_2. **Loss:** Minimize negative mean cumulative reward \n",
        "\n",
        "\n",
        "\n",
        "\n",
        "\n"
      ]
    },
    {
      "cell_type": "code",
      "execution_count": null,
      "metadata": {
        "colab": {
          "base_uri": "https://localhost:8080/"
        },
        "id": "P630pgO7cYPO",
        "outputId": "bd13918c-1d3c-4372-b183-241996f8adab"
      },
      "outputs": [
        {
          "name": "stdout",
          "output_type": "stream",
          "text": [
            "Not connected to a GPU\n"
          ]
        }
      ],
      "source": [
        "gpu_info = !nvidia-smi\n",
        "gpu_info = '\\n'.join(gpu_info)\n",
        "if gpu_info.find('failed') >= 0:\n",
        "  print('Not connected to a GPU')\n",
        "else:\n",
        "  print(gpu_info)"
      ]
    },
    {
      "cell_type": "code",
      "execution_count": null,
      "metadata": {
        "colab": {
          "base_uri": "https://localhost:8080/"
        },
        "id": "9dEnZiFSLfiw",
        "outputId": "82ecc921-9743-4cca-8c8a-667e10e2bb4f"
      },
      "outputs": [
        {
          "output_type": "stream",
          "name": "stdout",
          "text": [
            "Looking in indexes: https://pypi.org/simple, https://us-python.pkg.dev/colab-wheels/public/simple/\n",
            "Requirement already satisfied: geneticalgorithm in /usr/local/lib/python3.8/dist-packages (1.0.2)\n",
            "Requirement already satisfied: numpy in /usr/local/lib/python3.8/dist-packages (from geneticalgorithm) (1.21.6)\n",
            "Requirement already satisfied: func-timeout in /usr/local/lib/python3.8/dist-packages (from geneticalgorithm) (4.3.5)\n"
          ]
        }
      ],
      "source": [
        "pip install geneticalgorithm"
      ]
    },
    {
      "cell_type": "code",
      "execution_count": null,
      "metadata": {
        "id": "3MiWm0wlDhFE"
      },
      "outputs": [],
      "source": [
        "import numpy as np \n",
        "import torch \n",
        "import torch.nn as nn \n",
        "import torch.nn.functional as F \n",
        "import operator\n",
        "import matplotlib.pyplot as plt\n",
        "from geneticalgorithm import geneticalgorithm as ga\n",
        "%matplotlib inline"
      ]
    },
    {
      "cell_type": "code",
      "source": [
        "height = np.random.randint(5,10)\n",
        "width = np.random.randint(5,10)\n",
        "grid = np.zeros(height * width) -1\n",
        "size = height * width - 1\n",
        "current_location = (np.random.randint(0,size)) #e1\n",
        "bomb_location= np.random.choice([i for i in range(size) if i!= current_location])\n",
        "gold_location= np.random.choice([i for i in range(size) if (i!=current_location and i!= bomb_location)])\n",
        "terminal_states = [bomb_location, gold_location]\n",
        "print(height, width, grid, size, current_location, bomb_location, gold_location, terminal_states)"
      ],
      "metadata": {
        "colab": {
          "base_uri": "https://localhost:8080/"
        },
        "id": "-3-Xre_LM_V4",
        "outputId": "0cdc2e61-6450-48ec-e36f-5120e19048a3"
      },
      "execution_count": null,
      "outputs": [
        {
          "output_type": "stream",
          "name": "stdout",
          "text": [
            "9 8 [-1. -1. -1. -1. -1. -1. -1. -1. -1. -1. -1. -1. -1. -1. -1. -1. -1. -1.\n",
            " -1. -1. -1. -1. -1. -1. -1. -1. -1. -1. -1. -1. -1. -1. -1. -1. -1. -1.\n",
            " -1. -1. -1. -1. -1. -1. -1. -1. -1. -1. -1. -1. -1. -1. -1. -1. -1. -1.\n",
            " -1. -1. -1. -1. -1. -1. -1. -1. -1. -1. -1. -1. -1. -1. -1. -1. -1. -1.] 71 39 44 10 [44, 10]\n"
          ]
        }
      ]
    },
    {
      "cell_type": "code",
      "execution_count": null,
      "metadata": {
        "id": "EM5mEXGRBggC"
      },
      "outputs": [],
      "source": [
        "class DeepGridWorld:\n",
        "    ## Initialise starting data\n",
        "    def __init__(self):\n",
        "        # Set information about the gridworld\n",
        "        self.height = 5\n",
        "        self.width = 5\n",
        "        self.grid = np.zeros(self.height * self.width) -1\n",
        "        self.size = self.height * self.width - 1\n",
        "        \n",
        "        # Set random start location for the agent \n",
        "        self.current_location = (np.random.randint(0,24)) #e1\n",
        "        \n",
        "        # Set locations for the bomb and the gold\n",
        "\n",
        "        #self.bomb_location = np.random.choice([i for i in range(25) if i!=self.current_location]) # e2\n",
        "        #self.gold_location = np.random.choice([i for i in range(25) if (i!=self.current_location and i!=self.bomb_location)]) # e3\n",
        "        \n",
        "        self.bomb_location= 3\n",
        "        self.gold_location= 8\n",
        "        self.terminal_states = [self.bomb_location, self.gold_location]\n",
        "        \n",
        "        # Set grid rewards for special cells\n",
        "        self.grid[self.bomb_location] = -10\n",
        "        self.grid[self.gold_location] = 10\n",
        "        \n",
        "        # Set available actions\n",
        "        self.actions = [0, 1, 2, 3] # e4\n",
        "    \n",
        "        \n",
        "    ## Put methods here:\n",
        "    def get_available_actions(self):\n",
        "        \"\"\"Returns possible actions\"\"\"\n",
        "        return self.actions\n",
        "    \n",
        "    def agent_on_map(self):\n",
        "        \"\"\"Prints out current location of the agent on the grid (used for debugging)\"\"\"\n",
        "        grid = np.zeros(( self.height, self.width))\n",
        "        grid[self.current_location] = 1 #e5\n",
        "        return grid\n",
        "    \n",
        "    def get_reward(self, new_location):\n",
        "        \"\"\"Returns the reward for an input position\"\"\"\n",
        "        return self.grid[new_location] # e6\n",
        "        \n",
        "    \n",
        "    def make_step(self, action):\n",
        "        \"\"\"Moves the agent in the specified direction. If agent is at a border, agent stays still\n",
        "        but takes negative reward. Function returns the reward for the move.\"\"\"\n",
        "        # Store previous location\n",
        "        last_location = self.current_location\n",
        "        \n",
        "        # UP\n",
        "        if action == 0: # e7\n",
        "            # If agent is at the top, stay still, collect reward\n",
        "            if last_location < self.width: #e8 \n",
        "                reward = self.get_reward(last_location)\n",
        "            else:\n",
        "                self.current_location = (self.current_location - self.width) # e9\n",
        "                reward = self.get_reward(self.current_location)\n",
        "        \n",
        "        # DOWN\n",
        "        elif action == 1:\n",
        "            # If agent is at bottom, stay still, collect reward\n",
        "            if last_location >= ((self.width * self.height) - self.width): #e10\n",
        "                reward = self.get_reward(last_location)\n",
        "            else:\n",
        "                self.current_location = (self.current_location + self.width) # e11\n",
        "                reward = self.get_reward(self.current_location)\n",
        "            \n",
        "        # LEFT\n",
        "        elif action == 2:\n",
        "            # If agent is at the left, stay still, collect reward\n",
        "            if last_location % self.height == 0: # TODO e12\n",
        "                reward = self.get_reward(last_location) \n",
        "            else:\n",
        "                self.current_location = (self.current_location - 1) # e13\n",
        "                reward = self.get_reward(self.current_location)\n",
        "\n",
        "        # RIGHT\n",
        "        elif action == 3:\n",
        "            # If agent is at the right, stay still, collect reward\n",
        "            if last_location % self.height == self.height - 1: # TODO e14\n",
        "                reward = self.get_reward(last_location)\n",
        "            else:\n",
        "                self.current_location = (self.current_location + 1) # e15\n",
        "                reward = self.get_reward(self.current_location)\n",
        "                \n",
        "        return reward\n",
        "    \n",
        "    def check_state(self):\n",
        "        \"\"\"Check if the agent is in a terminal state (gold or bomb), if so return 'TERMINAL'\"\"\"\n",
        "        if self.current_location in self.terminal_states:\n",
        "            return 'TERMINAL'"
      ]
    },
    {
      "cell_type": "code",
      "execution_count": null,
      "metadata": {
        "id": "tMlAwzH5DbVO"
      },
      "outputs": [],
      "source": [
        "class RandomAgent():        \n",
        "    # Choose a random action\n",
        "    def choose_action(self, available_actions):\n",
        "        \"\"\"Returns a random choice of the available actions\"\"\"\n",
        "        return np.random.choice(available_actions)   "
      ]
    },
    {
      "cell_type": "code",
      "execution_count": null,
      "metadata": {
        "id": "8WY2L3fbDds8"
      },
      "outputs": [],
      "source": [
        "class DeepQ_Agent(nn.Module):\n",
        "    # Intialise\n",
        "    def __init__(self, environment, epsilon=0.05, alpha=0.1, gamma=0.99, aspiration = 0, weight_1 = 1, weight_2 = 1): # add default aspiration and weights\n",
        "        super().__init__()\n",
        "        self.environment = environment\n",
        "        # self.q_table = dict() # Store all Q-values in dictionary of dictionaries \n",
        "        # for x in range(environment.height): # Loop through all possible grid spaces, create sub-dictionary for each\n",
        "        #     for y in range(environment.width):\n",
        "        #         self.q_table[(x,y)] = {'UP':0, 'DOWN':0, 'LEFT':0, 'RIGHT':0} # Populate sub-dictionary with zero values for possible moves\n",
        "\n",
        "        self.q_table = torch.zeros((environment.height*environment.width, 4), requires_grad=True) #q1\n",
        "        self.epsilon = epsilon\n",
        "        self.alpha = alpha\n",
        "        self.gamma = gamma\n",
        "        self.aspiration = aspiration\n",
        "        self.weight_1 = weight_1\n",
        "        self.weight_2 = weight_2\n",
        "    \n",
        "    # Choose the action e-greedily \n",
        "    def choose_action(self, available_actions):\n",
        "        \"\"\"Returns the optimal action from Q-Value table. If multiple optimal actions, chooses random choice.\n",
        "        Will make an exploratory random action dependent on epsilon.\"\"\"\n",
        "        if np.random.uniform(0,1) < self.epsilon:\n",
        "            action = available_actions[np.random.randint(0, len(available_actions))]\n",
        "        else:\n",
        "            q_values_of_state = self.q_table[self.environment.current_location] # change to 1D (e1 in env)\n",
        "            maxValue = torch.max(q_values_of_state) # q2\n",
        "            #action = np.random.choice([k for k, v in q_values_of_state.items() if v == maxValue]) # tricky index of torch.max value and random choice\n",
        "            res = (q_values_of_state == maxValue).nonzero().numpy() # q3 get indices of highest value actions and convert to np array\n",
        "            action = np.random.choice(res[:,0]) # choose the action randomly if there is a tie (slice for 1D array)\n",
        "        \n",
        "        return action\n",
        "    \n",
        "    # Update the Q-table based on the current observation \n",
        "    def learn(self, old_state, reward, new_state, action):\n",
        "        \"\"\"Updates the Q-value table using Q-learning\"\"\"\n",
        "        q_values_of_state = self.q_table[new_state] # index into table self.q_table[] single index numbers not tuples\n",
        "        max_q_value_in_new_state = torch.max(q_values_of_state) # q4\n",
        "        current_q_value = self.q_table[old_state][action]\n",
        "        # define reward with aspiration = w_1 * reward + w_2 * (reward - aspiration)\n",
        "        reward = self.get_aspiration(reward)\n",
        "        self.q_table.data[old_state][action] = (1 - self.alpha) * current_q_value + self.alpha * (reward + self.gamma * max_q_value_in_new_state)\n",
        "    \n",
        "    # Transform the reward function using the aspiration formula #Define aspiration in another way for autograd\n",
        "    def get_aspiration(self, reward):\n",
        "      return self.weight_1 * reward + self.weight_2 * (reward - self.aspiration)\n",
        "    \n",
        "    def play(self,trials=500, max_steps_per_episode=1000, learn=False):\n",
        "      \"\"\"The play function runs iterations and updates Q-values if desired.\"\"\"\n",
        "      reward_per_episode = torch.empty(0, requires_grad=True) # Initialise performance log\n",
        "      self.q_table = torch.zeros((environment.height*environment.width, 4)) # reset q table\n",
        "      \n",
        "      for trial in range(trials): # Run trials\n",
        "          cumulative_reward = 0 # Initialise values of each game\n",
        "          step = 0\n",
        "          game_over = False\n",
        "          while step < max_steps_per_episode and game_over != True: # Run until max steps or until game is finished\n",
        "              old_state = self.environment.current_location\n",
        "              action = self.choose_action(self.environment.actions) \n",
        "              reward = self.environment.make_step(action)\n",
        "              new_state = self.environment.current_location\n",
        "              \n",
        "              if learn == True: # Update Q-values if learning is specified\n",
        "                  self.learn(old_state, reward, new_state, action)\n",
        "                  \n",
        "              cumulative_reward += reward\n",
        "              step += 1\n",
        "              \n",
        "              if self.environment.check_state() == 'TERMINAL': # If game is in terminal state, game over and start next trial\n",
        "                  self.environment.__init__()\n",
        "                  game_over = True     \n",
        "                  \n",
        "          reward_per_episode = torch.cat([reward_per_episode, torch.tensor([cumulative_reward])]) # Append reward for current trial to performance log\n",
        "          \n",
        "      return reward_per_episode # Return performance log\n",
        "\n",
        "\n",
        "    \n",
        "    def forward(self,x,trials=10):\n",
        "      # self.aspiration=x[0]\n",
        "      # self.weight_1=x[1]\n",
        "      # self.weight_2=x[2]\n",
        "      #self.aspiration = x\n",
        "      rewards=self.play(trials=trials,learn=True)\n",
        "      #tensor_reward=torch.tensor(rewards,requires_grad=True)\n",
        "     # mean_reward = torch.tensor(torch.mean(tensor_reward), requires_grad=True). #sourceTensor.clone().detach().requires_grad_(True)\n",
        "      return torch.mean(rewards) #return medium rewards \n",
        "\n",
        "\n"
      ]
    },
    {
      "cell_type": "code",
      "execution_count": null,
      "metadata": {
        "colab": {
          "base_uri": "https://localhost:8080/"
        },
        "id": "2gbeBfg_hU3K",
        "outputId": "807a3cd7-458b-407f-9094-c15bfe7bf785"
      },
      "outputs": [
        {
          "data": {
            "text/plain": [
              "tensor([1.], grad_fn=<AddBackward0>)"
            ]
          },
          "execution_count": 6,
          "metadata": {},
          "output_type": "execute_result"
        }
      ],
      "source": [
        "reward_per_episode = torch.zeros(1, requires_grad=True)\n",
        "reward_per_episode.add(1)"
      ]
    },
    {
      "cell_type": "code",
      "execution_count": null,
      "metadata": {
        "id": "yeqM3aSVDqFg"
      },
      "outputs": [],
      "source": [
        "def play(environment, agent, trials=500, max_steps_per_episode=1000, learn=False):\n",
        "    \"\"\"The play function runs iterations and updates Q-values if desired.\"\"\"\n",
        "    reward_per_episode = [] # Initialise performance log\n",
        "    \n",
        "    for trial in range(trials): # Run trials\n",
        "        cumulative_reward = 0 # Initialise values of each game\n",
        "        step = 0\n",
        "        game_over = False\n",
        "        while step < max_steps_per_episode and game_over != True: # Run until max steps or until game is finished\n",
        "            old_state = environment.current_location\n",
        "            action = agent.choose_action(environment.actions) \n",
        "            reward = environment.make_step(action)\n",
        "            new_state = environment.current_location\n",
        "            \n",
        "            if learn == True: # Update Q-values if learning is specified\n",
        "                agent.learn(old_state, reward, new_state, action)\n",
        "                \n",
        "            cumulative_reward += reward\n",
        "            step += 1\n",
        "            \n",
        "            if environment.check_state() == 'TERMINAL': # If game is in terminal state, game over and start next trial\n",
        "                environment.__init__()\n",
        "                game_over = True     \n",
        "                \n",
        "        reward_per_episode.append(cumulative_reward) # Append reward for current trial to performance log\n",
        "        \n",
        "    return reward_per_episode # Return performance log"
      ]
    },
    {
      "cell_type": "markdown",
      "metadata": {
        "id": "1cQsCAWbbFDp"
      },
      "source": [
        "### Testing Torch version of play for autograd:"
      ]
    },
    {
      "cell_type": "code",
      "execution_count": null,
      "metadata": {
        "id": "Jit7BVRQZcXM"
      },
      "outputs": [],
      "source": [
        "# def new_play(environment, agent,trials=500, max_steps_per_episode=1000, learn=False):\n",
        "#       \"\"\"The play function runs iterations and updates Q-values if desired.\"\"\"\n",
        "#       reward_per_episode = torch.empty(0, requires_grad=True) # Initialise performance log\n",
        "      \n",
        "#       for trial in range(trials): # Run trials\n",
        "#           cumulative_reward = 0 # Initialise values of each game\n",
        "#           step = 0\n",
        "#           game_over = False\n",
        "#           while step < max_steps_per_episode and game_over != True: # Run until max steps or until game is finished\n",
        "#               old_state = environment.current_location\n",
        "#               action = agent.choose_action(environment.actions) \n",
        "#               reward = environment.make_step(action)\n",
        "#               new_state = environment.current_location\n",
        "              \n",
        "#               if learn == True: # Update Q-values if learning is specified\n",
        "#                   agent.learn(old_state, reward, new_state, action)\n",
        "                  \n",
        "#               cumulative_reward += reward\n",
        "#               step += 1\n",
        "              \n",
        "#               if environment.check_state() == 'TERMINAL': # If game is in terminal state, game over and start next trial\n",
        "#                   environment.__init__()\n",
        "#                   game_over = True     \n",
        "                  \n",
        "#           reward_per_episode = torch.cat([reward_per_episode, torch.tensor([cumulative_reward])]) # Append reward for current trial to performance log\n",
        "          \n",
        "#       return reward_per_episode # Return performance log"
      ]
    },
    {
      "cell_type": "code",
      "execution_count": null,
      "metadata": {
        "colab": {
          "base_uri": "https://localhost:8080/",
          "height": 381
        },
        "id": "-tDNCiPTDqxd",
        "outputId": "b95c9e06-57ee-4c33-e189-6b74e65a634b"
      },
      "outputs": [
        {
          "ename": "KeyboardInterrupt",
          "evalue": "ignored",
          "output_type": "error",
          "traceback": [
            "\u001b[0;31m---------------------------------------------------------------------------\u001b[0m",
            "\u001b[0;31mKeyboardInterrupt\u001b[0m                         Traceback (most recent call last)",
            "\u001b[0;32m<ipython-input-19-b48f22123b2d>\u001b[0m in \u001b[0;36m<module>\u001b[0;34m\u001b[0m\n\u001b[1;32m      3\u001b[0m \u001b[0mav_reward\u001b[0m \u001b[0;34m=\u001b[0m \u001b[0;36m0\u001b[0m\u001b[0;34m\u001b[0m\u001b[0;34m\u001b[0m\u001b[0m\n\u001b[1;32m      4\u001b[0m \u001b[0;32mfor\u001b[0m \u001b[0miteration\u001b[0m \u001b[0;32min\u001b[0m \u001b[0mrange\u001b[0m\u001b[0;34m(\u001b[0m\u001b[0;36m10\u001b[0m\u001b[0;34m)\u001b[0m\u001b[0;34m:\u001b[0m\u001b[0;34m\u001b[0m\u001b[0;34m\u001b[0m\u001b[0m\n\u001b[0;32m----> 5\u001b[0;31m   \u001b[0mreward_per_episode\u001b[0m \u001b[0;34m=\u001b[0m \u001b[0mplay\u001b[0m\u001b[0;34m(\u001b[0m\u001b[0menvironment\u001b[0m\u001b[0;34m,\u001b[0m \u001b[0magent\u001b[0m\u001b[0;34m,\u001b[0m \u001b[0mtrials\u001b[0m \u001b[0;34m=\u001b[0m \u001b[0;36m500\u001b[0m\u001b[0;34m,\u001b[0m \u001b[0mlearn\u001b[0m \u001b[0;34m=\u001b[0m \u001b[0;32mTrue\u001b[0m\u001b[0;34m)\u001b[0m\u001b[0;34m\u001b[0m\u001b[0;34m\u001b[0m\u001b[0m\n\u001b[0m\u001b[1;32m      6\u001b[0m \u001b[0;34m\u001b[0m\u001b[0m\n\u001b[1;32m      7\u001b[0m   \u001b[0;31m#plt.plot(reward_per_episode)\u001b[0m\u001b[0;34m\u001b[0m\u001b[0;34m\u001b[0m\u001b[0;34m\u001b[0m\u001b[0m\n",
            "\u001b[0;32m<ipython-input-10-197167c379d2>\u001b[0m in \u001b[0;36mplay\u001b[0;34m(environment, agent, trials, max_steps_per_episode, learn)\u001b[0m\n\u001b[1;32m     14\u001b[0m \u001b[0;34m\u001b[0m\u001b[0m\n\u001b[1;32m     15\u001b[0m             \u001b[0;32mif\u001b[0m \u001b[0mlearn\u001b[0m \u001b[0;34m==\u001b[0m \u001b[0;32mTrue\u001b[0m\u001b[0;34m:\u001b[0m \u001b[0;31m# Update Q-values if learning is specified\u001b[0m\u001b[0;34m\u001b[0m\u001b[0;34m\u001b[0m\u001b[0m\n\u001b[0;32m---> 16\u001b[0;31m                 \u001b[0magent\u001b[0m\u001b[0;34m.\u001b[0m\u001b[0mlearn\u001b[0m\u001b[0;34m(\u001b[0m\u001b[0mold_state\u001b[0m\u001b[0;34m,\u001b[0m \u001b[0mreward\u001b[0m\u001b[0;34m,\u001b[0m \u001b[0mnew_state\u001b[0m\u001b[0;34m,\u001b[0m \u001b[0maction\u001b[0m\u001b[0;34m)\u001b[0m\u001b[0;34m\u001b[0m\u001b[0;34m\u001b[0m\u001b[0m\n\u001b[0m\u001b[1;32m     17\u001b[0m \u001b[0;34m\u001b[0m\u001b[0m\n\u001b[1;32m     18\u001b[0m             \u001b[0mcumulative_reward\u001b[0m \u001b[0;34m+=\u001b[0m \u001b[0mreward\u001b[0m\u001b[0;34m\u001b[0m\u001b[0;34m\u001b[0m\u001b[0m\n",
            "\u001b[0;32m<ipython-input-13-8c58ec0780e7>\u001b[0m in \u001b[0;36mlearn\u001b[0;34m(self, old_state, reward, new_state, action)\u001b[0m\n\u001b[1;32m     40\u001b[0m         \u001b[0;31m# define reward with aspiration = w_1 * reward + w_2 * (reward - aspiration)\u001b[0m\u001b[0;34m\u001b[0m\u001b[0;34m\u001b[0m\u001b[0;34m\u001b[0m\u001b[0m\n\u001b[1;32m     41\u001b[0m         \u001b[0mreward\u001b[0m \u001b[0;34m=\u001b[0m \u001b[0mself\u001b[0m\u001b[0;34m.\u001b[0m\u001b[0mget_aspiration\u001b[0m\u001b[0;34m(\u001b[0m\u001b[0mreward\u001b[0m\u001b[0;34m)\u001b[0m\u001b[0;34m\u001b[0m\u001b[0;34m\u001b[0m\u001b[0m\n\u001b[0;32m---> 42\u001b[0;31m         \u001b[0mself\u001b[0m\u001b[0;34m.\u001b[0m\u001b[0mq_table\u001b[0m\u001b[0;34m[\u001b[0m\u001b[0mold_state\u001b[0m\u001b[0;34m]\u001b[0m\u001b[0;34m[\u001b[0m\u001b[0maction\u001b[0m\u001b[0;34m]\u001b[0m \u001b[0;34m=\u001b[0m \u001b[0;34m(\u001b[0m\u001b[0;36m1\u001b[0m \u001b[0;34m-\u001b[0m \u001b[0mself\u001b[0m\u001b[0;34m.\u001b[0m\u001b[0malpha\u001b[0m\u001b[0;34m)\u001b[0m \u001b[0;34m*\u001b[0m \u001b[0mcurrent_q_value\u001b[0m \u001b[0;34m+\u001b[0m \u001b[0mself\u001b[0m\u001b[0;34m.\u001b[0m\u001b[0malpha\u001b[0m \u001b[0;34m*\u001b[0m \u001b[0;34m(\u001b[0m\u001b[0mreward\u001b[0m \u001b[0;34m+\u001b[0m \u001b[0mself\u001b[0m\u001b[0;34m.\u001b[0m\u001b[0mgamma\u001b[0m \u001b[0;34m*\u001b[0m \u001b[0mmax_q_value_in_new_state\u001b[0m\u001b[0;34m)\u001b[0m\u001b[0;34m\u001b[0m\u001b[0;34m\u001b[0m\u001b[0m\n\u001b[0m\u001b[1;32m     43\u001b[0m \u001b[0;34m\u001b[0m\u001b[0m\n\u001b[1;32m     44\u001b[0m     \u001b[0;31m# Transform the reward function using the aspiration formula #Define aspiration in another way for autograd\u001b[0m\u001b[0;34m\u001b[0m\u001b[0;34m\u001b[0m\u001b[0;34m\u001b[0m\u001b[0m\n",
            "\u001b[0;31mKeyboardInterrupt\u001b[0m: "
          ]
        }
      ],
      "source": [
        "environment = DeepGridWorld()\n",
        "agent = DeepQ_Agent(environment, aspiration = 0)\n",
        "av_reward = 0 \n",
        "for iteration in range(10):\n",
        "  reward_per_episode = play(environment, agent, trials = 500, learn = True)\n",
        "\n",
        "  #plt.plot(reward_per_episode)\n",
        "  av_reward += sum(reward_per_episode) \n",
        "\n",
        "print(av_reward/10)"
      ]
    },
    {
      "cell_type": "markdown",
      "metadata": {
        "id": "uiFoTCYMOEGz"
      },
      "source": [
        "### Testing aspiration (100 iterations, 500 trials)  \n",
        "2184.75, aspiration = 0.5 \\\\\n",
        "2182.38       , aspiration = 0.2 \\\\\n",
        "2195.28      , aspiration = 0.08 \\\\\n",
        "2181.2      , aspiration = 0.05 \\\\\n",
        "2188.52, aspiration = 0 \n"
      ]
    },
    {
      "cell_type": "code",
      "execution_count": null,
      "metadata": {
        "colab": {
          "base_uri": "https://localhost:8080/",
          "height": 300
        },
        "id": "eu1QVXR7EEq-",
        "outputId": "fbab021c-83c5-4e62-b22c-12905cf23e0f"
      },
      "outputs": [
        {
          "output_type": "stream",
          "name": "stdout",
          "text": [
            "torch.Size([25, 4])\n",
            "7.0\n"
          ]
        },
        {
          "output_type": "display_data",
          "data": {
            "text/plain": [
              "<Figure size 432x288 with 1 Axes>"
            ],
            "image/png": "[encoded data removed]"
          },
          "metadata": {
            "needs_background": "light"
          }
        }
      ],
      "source": [
        "environment = DeepGridWorld()\n",
        "agent = DeepQ_Agent(environment, aspiration = 0.20173071)\n",
        "av_reward = 0 \n",
        "print(agent.q_table.shape)\n",
        "reward_per_episode = agent.play( learn = True)\n",
        "\n",
        "plt.plot(reward_per_episode.detach().numpy())\n",
        "#print(reward_per_episode)\n",
        "print(np.mean(reward_per_episode.detach().numpy()[-1:]))\n"
      ]
    },
    {
      "cell_type": "code",
      "execution_count": null,
      "metadata": {
        "colab": {
          "base_uri": "https://localhost:8080/"
        },
        "id": "_nLNe1wnZfh8",
        "outputId": "59b87974-ecd8-4a40-c0cf-7ea145b9f471"
      },
      "outputs": [
        {
          "output_type": "execute_result",
          "data": {
            "text/plain": [
              "4.334666666666666"
            ]
          },
          "metadata": {},
          "execution_count": 20
        }
      ],
      "source": [
        "means = []\n",
        "\n",
        "for it in range(100):\n",
        "  environment = DeepGridWorld()\n",
        "  agent = DeepQ_Agent(environment, aspiration = 0.20173071)\n",
        "  reward_per_episode = play(environment, agent, trials=100, learn = True)\n",
        "  means.append(reward_per_episode[-15:])\n",
        "\n",
        "np.mean(means)"
      ]
    },
    {
      "cell_type": "markdown",
      "metadata": {
        "id": "WsqjWPuMMIa_"
      },
      "source": [
        "### Testing Evolutionary Algorithms"
      ]
    },
    {
      "cell_type": "code",
      "execution_count": null,
      "metadata": {
        "colab": {
          "base_uri": "https://localhost:8080/",
          "height": 364
        },
        "id": "J-TE1R7SMH9Z",
        "outputId": "cb5e4f89-1559-4510-f8e6-5089ae3edb35"
      },
      "outputs": [
        {
          "output_type": "error",
          "ename": "TypeError",
          "evalue": "ignored",
          "traceback": [
            "\u001b[0;31m---------------------------------------------------------------------------\u001b[0m",
            "\u001b[0;31mTypeError\u001b[0m                                 Traceback (most recent call last)",
            "\u001b[0;32m<ipython-input-9-3c1ded564b9d>\u001b[0m in \u001b[0;36m<module>\u001b[0;34m\u001b[0m\n\u001b[1;32m     18\u001b[0m \u001b[0mmodel\u001b[0m\u001b[0;34m=\u001b[0m\u001b[0mga\u001b[0m\u001b[0;34m(\u001b[0m\u001b[0mfunction\u001b[0m\u001b[0;34m=\u001b[0m \u001b[0moptimize\u001b[0m\u001b[0;34m,\u001b[0m\u001b[0mdimension\u001b[0m\u001b[0;34m=\u001b[0m\u001b[0;36m1\u001b[0m\u001b[0;34m,\u001b[0m\u001b[0mvariable_type\u001b[0m\u001b[0;34m=\u001b[0m\u001b[0;34m'real'\u001b[0m\u001b[0;34m,\u001b[0m\u001b[0mvariable_boundaries\u001b[0m\u001b[0;34m=\u001b[0m\u001b[0mvarbound\u001b[0m\u001b[0;34m,\u001b[0m \u001b[0malgorithm_parameters\u001b[0m \u001b[0;34m=\u001b[0m \u001b[0malgorithm_param\u001b[0m\u001b[0;34m)\u001b[0m\u001b[0;34m\u001b[0m\u001b[0;34m\u001b[0m\u001b[0m\n\u001b[1;32m     19\u001b[0m \u001b[0;34m\u001b[0m\u001b[0m\n\u001b[0;32m---> 20\u001b[0;31m \u001b[0mmodel\u001b[0m\u001b[0;34m.\u001b[0m\u001b[0mrun\u001b[0m\u001b[0;34m(\u001b[0m\u001b[0;34m)\u001b[0m \u001b[0;31m# optimal = 0.20173071\u001b[0m\u001b[0;34m\u001b[0m\u001b[0;34m\u001b[0m\u001b[0m\n\u001b[0m",
            "\u001b[0;32m/usr/local/lib/python3.8/dist-packages/geneticalgorithm/geneticalgorithm.py\u001b[0m in \u001b[0;36mrun\u001b[0;34m(self)\u001b[0m\n\u001b[1;32m    301\u001b[0m \u001b[0;34m\u001b[0m\u001b[0m\n\u001b[1;32m    302\u001b[0m \u001b[0;34m\u001b[0m\u001b[0m\n\u001b[0;32m--> 303\u001b[0;31m             \u001b[0mobj\u001b[0m\u001b[0;34m=\u001b[0m\u001b[0mself\u001b[0m\u001b[0;34m.\u001b[0m\u001b[0msim\u001b[0m\u001b[0;34m(\u001b[0m\u001b[0mvar\u001b[0m\u001b[0;34m)\u001b[0m\u001b[0;34m\u001b[0m\u001b[0;34m\u001b[0m\u001b[0m\n\u001b[0m\u001b[1;32m    304\u001b[0m             \u001b[0msolo\u001b[0m\u001b[0;34m[\u001b[0m\u001b[0mself\u001b[0m\u001b[0;34m.\u001b[0m\u001b[0mdim\u001b[0m\u001b[0;34m]\u001b[0m\u001b[0;34m=\u001b[0m\u001b[0mobj\u001b[0m\u001b[0;34m\u001b[0m\u001b[0;34m\u001b[0m\u001b[0m\n\u001b[1;32m    305\u001b[0m             \u001b[0mpop\u001b[0m\u001b[0;34m[\u001b[0m\u001b[0mp\u001b[0m\u001b[0;34m]\u001b[0m\u001b[0;34m=\u001b[0m\u001b[0msolo\u001b[0m\u001b[0;34m.\u001b[0m\u001b[0mcopy\u001b[0m\u001b[0;34m(\u001b[0m\u001b[0;34m)\u001b[0m\u001b[0;34m\u001b[0m\u001b[0;34m\u001b[0m\u001b[0m\n",
            "\u001b[0;32m/usr/local/lib/python3.8/dist-packages/geneticalgorithm/geneticalgorithm.py\u001b[0m in \u001b[0;36msim\u001b[0;34m(self, X)\u001b[0m\n\u001b[1;32m    540\u001b[0m         \u001b[0mobj\u001b[0m\u001b[0;34m=\u001b[0m\u001b[0;32mNone\u001b[0m\u001b[0;34m\u001b[0m\u001b[0;34m\u001b[0m\u001b[0m\n\u001b[1;32m    541\u001b[0m         \u001b[0;32mtry\u001b[0m\u001b[0;34m:\u001b[0m\u001b[0;34m\u001b[0m\u001b[0;34m\u001b[0m\u001b[0m\n\u001b[0;32m--> 542\u001b[0;31m             \u001b[0mobj\u001b[0m\u001b[0;34m=\u001b[0m\u001b[0mfunc_timeout\u001b[0m\u001b[0;34m(\u001b[0m\u001b[0mself\u001b[0m\u001b[0;34m.\u001b[0m\u001b[0mfuntimeout\u001b[0m\u001b[0;34m,\u001b[0m\u001b[0mself\u001b[0m\u001b[0;34m.\u001b[0m\u001b[0mevaluate\u001b[0m\u001b[0;34m)\u001b[0m\u001b[0;34m\u001b[0m\u001b[0;34m\u001b[0m\u001b[0m\n\u001b[0m\u001b[1;32m    543\u001b[0m         \u001b[0;32mexcept\u001b[0m \u001b[0mFunctionTimedOut\u001b[0m\u001b[0;34m:\u001b[0m\u001b[0;34m\u001b[0m\u001b[0;34m\u001b[0m\u001b[0m\n\u001b[1;32m    544\u001b[0m             \u001b[0mprint\u001b[0m\u001b[0;34m(\u001b[0m\u001b[0;34m\"given function is not applicable\"\u001b[0m\u001b[0;34m)\u001b[0m\u001b[0;34m\u001b[0m\u001b[0;34m\u001b[0m\u001b[0m\n",
            "\u001b[0;32m/usr/local/lib/python3.8/dist-packages/func_timeout/dafunc.py\u001b[0m in \u001b[0;36mfunc_timeout\u001b[0;34m(timeout, func, args, kwargs)\u001b[0m\n\u001b[1;32m    106\u001b[0m \u001b[0;34m\u001b[0m\u001b[0m\n\u001b[1;32m    107\u001b[0m     \u001b[0;32mif\u001b[0m \u001b[0mexception\u001b[0m\u001b[0;34m:\u001b[0m\u001b[0;34m\u001b[0m\u001b[0;34m\u001b[0m\u001b[0m\n\u001b[0;32m--> 108\u001b[0;31m         \u001b[0mraise_exception\u001b[0m\u001b[0;34m(\u001b[0m\u001b[0mexception\u001b[0m\u001b[0;34m)\u001b[0m\u001b[0;34m\u001b[0m\u001b[0;34m\u001b[0m\u001b[0m\n\u001b[0m\u001b[1;32m    109\u001b[0m \u001b[0;34m\u001b[0m\u001b[0m\n\u001b[1;32m    110\u001b[0m     \u001b[0;32mif\u001b[0m \u001b[0mret\u001b[0m\u001b[0;34m:\u001b[0m\u001b[0;34m\u001b[0m\u001b[0;34m\u001b[0m\u001b[0m\n",
            "\u001b[0;32m/usr/local/lib/python3.8/dist-packages/func_timeout/py3_raise.py\u001b[0m in \u001b[0;36mraise_exception\u001b[0;34m(exception)\u001b[0m\n\u001b[1;32m      5\u001b[0m \u001b[0;31m# Only available in python3.3+\u001b[0m\u001b[0;34m\u001b[0m\u001b[0;34m\u001b[0m\u001b[0;34m\u001b[0m\u001b[0m\n\u001b[1;32m      6\u001b[0m \u001b[0;32mdef\u001b[0m \u001b[0mraise_exception\u001b[0m\u001b[0;34m(\u001b[0m\u001b[0mexception\u001b[0m\u001b[0;34m)\u001b[0m\u001b[0;34m:\u001b[0m\u001b[0;34m\u001b[0m\u001b[0;34m\u001b[0m\u001b[0m\n\u001b[0;32m----> 7\u001b[0;31m     \u001b[0;32mraise\u001b[0m \u001b[0mexception\u001b[0m\u001b[0;34m[\u001b[0m\u001b[0;36m0\u001b[0m\u001b[0;34m]\u001b[0m \u001b[0;32mfrom\u001b[0m \u001b[0;32mNone\u001b[0m\u001b[0;34m\u001b[0m\u001b[0;34m\u001b[0m\u001b[0m\n\u001b[0m",
            "\u001b[0;32m/usr/local/lib/python3.8/dist-packages/geneticalgorithm/geneticalgorithm.py\u001b[0m in \u001b[0;36mevaluate\u001b[0;34m(self)\u001b[0m\n\u001b[1;32m    534\u001b[0m \u001b[0;31m###############################################################################\u001b[0m\u001b[0;34m\u001b[0m\u001b[0;34m\u001b[0m\u001b[0;34m\u001b[0m\u001b[0m\n\u001b[1;32m    535\u001b[0m     \u001b[0;32mdef\u001b[0m \u001b[0mevaluate\u001b[0m\u001b[0;34m(\u001b[0m\u001b[0mself\u001b[0m\u001b[0;34m)\u001b[0m\u001b[0;34m:\u001b[0m\u001b[0;34m\u001b[0m\u001b[0;34m\u001b[0m\u001b[0m\n\u001b[0;32m--> 536\u001b[0;31m         \u001b[0;32mreturn\u001b[0m \u001b[0mself\u001b[0m\u001b[0;34m.\u001b[0m\u001b[0mf\u001b[0m\u001b[0;34m(\u001b[0m\u001b[0mself\u001b[0m\u001b[0;34m.\u001b[0m\u001b[0mtemp\u001b[0m\u001b[0;34m)\u001b[0m\u001b[0;34m\u001b[0m\u001b[0;34m\u001b[0m\u001b[0m\n\u001b[0m\u001b[1;32m    537\u001b[0m \u001b[0;31m###############################################################################\u001b[0m\u001b[0;34m\u001b[0m\u001b[0;34m\u001b[0m\u001b[0;34m\u001b[0m\u001b[0m\n\u001b[1;32m    538\u001b[0m     \u001b[0;32mdef\u001b[0m \u001b[0msim\u001b[0m\u001b[0;34m(\u001b[0m\u001b[0mself\u001b[0m\u001b[0;34m,\u001b[0m\u001b[0mX\u001b[0m\u001b[0;34m)\u001b[0m\u001b[0;34m:\u001b[0m\u001b[0;34m\u001b[0m\u001b[0;34m\u001b[0m\u001b[0m\n",
            "\u001b[0;32m<ipython-input-9-3c1ded564b9d>\u001b[0m in \u001b[0;36moptimize\u001b[0;34m(aspiration)\u001b[0m\n\u001b[1;32m      2\u001b[0m     \u001b[0menvironment\u001b[0m \u001b[0;34m=\u001b[0m \u001b[0mDeepGridWorld\u001b[0m\u001b[0;34m(\u001b[0m\u001b[0;34m)\u001b[0m\u001b[0;34m\u001b[0m\u001b[0;34m\u001b[0m\u001b[0m\n\u001b[1;32m      3\u001b[0m     \u001b[0magent\u001b[0m \u001b[0;34m=\u001b[0m \u001b[0mDeepQ_Agent\u001b[0m\u001b[0;34m(\u001b[0m\u001b[0menvironment\u001b[0m\u001b[0;34m,\u001b[0m\u001b[0maspiration\u001b[0m \u001b[0;34m=\u001b[0m \u001b[0maspiration\u001b[0m\u001b[0;34m)\u001b[0m\u001b[0;34m\u001b[0m\u001b[0;34m\u001b[0m\u001b[0m\n\u001b[0;32m----> 4\u001b[0;31m     \u001b[0mreward_per_episode\u001b[0m \u001b[0;34m=\u001b[0m \u001b[0magent\u001b[0m\u001b[0;34m.\u001b[0m\u001b[0mplay\u001b[0m\u001b[0;34m(\u001b[0m\u001b[0mlearn\u001b[0m \u001b[0;34m=\u001b[0m \u001b[0;32mTrue\u001b[0m\u001b[0;34m)\u001b[0m\u001b[0;34m\u001b[0m\u001b[0;34m\u001b[0m\u001b[0m\n\u001b[0m\u001b[1;32m      5\u001b[0m     \u001b[0;32mreturn\u001b[0m \u001b[0;34m-\u001b[0m\u001b[0mnp\u001b[0m\u001b[0;34m.\u001b[0m\u001b[0mmean\u001b[0m\u001b[0;34m(\u001b[0m\u001b[0mreward_per_episode\u001b[0m\u001b[0;34m.\u001b[0m\u001b[0mdetach\u001b[0m\u001b[0;34m(\u001b[0m\u001b[0;34m)\u001b[0m\u001b[0;34m.\u001b[0m\u001b[0mnumpy\u001b[0m\u001b[0;34m(\u001b[0m\u001b[0;34m)\u001b[0m\u001b[0;34m[\u001b[0m\u001b[0;34m-\u001b[0m\u001b[0;36m15\u001b[0m\u001b[0;34m:\u001b[0m\u001b[0;34m]\u001b[0m\u001b[0;34m)\u001b[0m\u001b[0;34m\u001b[0m\u001b[0;34m\u001b[0m\u001b[0m\n\u001b[1;32m      6\u001b[0m \u001b[0;34m\u001b[0m\u001b[0m\n",
            "\u001b[0;32m<ipython-input-6-c69447213b9a>\u001b[0m in \u001b[0;36mplay\u001b[0;34m(self, trials, max_steps_per_episode, learn)\u001b[0m\n\u001b[1;32m     62\u001b[0m \u001b[0;34m\u001b[0m\u001b[0m\n\u001b[1;32m     63\u001b[0m               \u001b[0;32mif\u001b[0m \u001b[0mlearn\u001b[0m \u001b[0;34m==\u001b[0m \u001b[0;32mTrue\u001b[0m\u001b[0;34m:\u001b[0m \u001b[0;31m# Update Q-values if learning is specified\u001b[0m\u001b[0;34m\u001b[0m\u001b[0;34m\u001b[0m\u001b[0m\n\u001b[0;32m---> 64\u001b[0;31m                   \u001b[0mself\u001b[0m\u001b[0;34m.\u001b[0m\u001b[0mlearn\u001b[0m\u001b[0;34m(\u001b[0m\u001b[0mold_state\u001b[0m\u001b[0;34m,\u001b[0m \u001b[0mreward\u001b[0m\u001b[0;34m,\u001b[0m \u001b[0mnew_state\u001b[0m\u001b[0;34m,\u001b[0m \u001b[0maction\u001b[0m\u001b[0;34m)\u001b[0m\u001b[0;34m\u001b[0m\u001b[0;34m\u001b[0m\u001b[0m\n\u001b[0m\u001b[1;32m     65\u001b[0m \u001b[0;34m\u001b[0m\u001b[0m\n\u001b[1;32m     66\u001b[0m               \u001b[0mcumulative_reward\u001b[0m \u001b[0;34m+=\u001b[0m \u001b[0mreward\u001b[0m\u001b[0;34m\u001b[0m\u001b[0;34m\u001b[0m\u001b[0m\n",
            "\u001b[0;32m<ipython-input-6-c69447213b9a>\u001b[0m in \u001b[0;36mlearn\u001b[0;34m(self, old_state, reward, new_state, action)\u001b[0m\n\u001b[1;32m     40\u001b[0m         \u001b[0;31m# define reward with aspiration = w_1 * reward + w_2 * (reward - aspiration)\u001b[0m\u001b[0;34m\u001b[0m\u001b[0;34m\u001b[0m\u001b[0;34m\u001b[0m\u001b[0m\n\u001b[1;32m     41\u001b[0m         \u001b[0mreward\u001b[0m \u001b[0;34m=\u001b[0m \u001b[0mself\u001b[0m\u001b[0;34m.\u001b[0m\u001b[0mget_aspiration\u001b[0m\u001b[0;34m(\u001b[0m\u001b[0mreward\u001b[0m\u001b[0;34m)\u001b[0m\u001b[0;34m\u001b[0m\u001b[0;34m\u001b[0m\u001b[0m\n\u001b[0;32m---> 42\u001b[0;31m         \u001b[0mself\u001b[0m\u001b[0;34m.\u001b[0m\u001b[0mq_table\u001b[0m\u001b[0;34m.\u001b[0m\u001b[0mdata\u001b[0m\u001b[0;34m[\u001b[0m\u001b[0mold_state\u001b[0m\u001b[0;34m]\u001b[0m\u001b[0;34m[\u001b[0m\u001b[0maction\u001b[0m\u001b[0;34m]\u001b[0m \u001b[0;34m=\u001b[0m \u001b[0;34m(\u001b[0m\u001b[0;36m1\u001b[0m \u001b[0;34m-\u001b[0m \u001b[0mself\u001b[0m\u001b[0;34m.\u001b[0m\u001b[0malpha\u001b[0m\u001b[0;34m)\u001b[0m \u001b[0;34m*\u001b[0m \u001b[0mcurrent_q_value\u001b[0m \u001b[0;34m+\u001b[0m \u001b[0mself\u001b[0m\u001b[0;34m.\u001b[0m\u001b[0malpha\u001b[0m \u001b[0;34m*\u001b[0m \u001b[0;34m(\u001b[0m\u001b[0mreward\u001b[0m \u001b[0;34m+\u001b[0m \u001b[0mself\u001b[0m\u001b[0;34m.\u001b[0m\u001b[0mgamma\u001b[0m \u001b[0;34m*\u001b[0m \u001b[0mmax_q_value_in_new_state\u001b[0m\u001b[0;34m)\u001b[0m\u001b[0;34m\u001b[0m\u001b[0;34m\u001b[0m\u001b[0m\n\u001b[0m\u001b[1;32m     43\u001b[0m \u001b[0;34m\u001b[0m\u001b[0m\n\u001b[1;32m     44\u001b[0m     \u001b[0;31m# Transform the reward function using the aspiration formula #Define aspiration in another way for autograd\u001b[0m\u001b[0;34m\u001b[0m\u001b[0;34m\u001b[0m\u001b[0;34m\u001b[0m\u001b[0m\n",
            "\u001b[0;31mTypeError\u001b[0m: Concatenation operation is not implemented for NumPy arrays, use np.concatenate() instead. Please do not rely on this error; it may not be given on all Python implementations."
          ]
        }
      ],
      "source": [
        "def optimize(aspiration):\n",
        "    environment = DeepGridWorld()\n",
        "    agent = DeepQ_Agent(environment,aspiration = aspiration)\n",
        "    reward_per_episode = agent.play(learn = True)\n",
        "    return -np.mean(reward_per_episode.detach().numpy()[-15:])\n",
        "    \n",
        "varbound=np.array([[0,1]])\n",
        "\n",
        "algorithm_param = {'max_num_iteration': 100,\\\n",
        "                   'population_size':100,\\\n",
        "                   'mutation_probability':0.1,\\\n",
        "                   'elit_ratio': 0.01,\\\n",
        "                   'crossover_probability': 0.5,\\\n",
        "                   'parents_portion': 0.3,\\\n",
        "                   'crossover_type':'uniform',\\\n",
        "                   'max_iteration_without_improv':None}\n",
        "\n",
        "model=ga(function= optimize,dimension=1,variable_type='real',variable_boundaries=varbound, algorithm_parameters = algorithm_param)\n",
        "\n",
        "model.run() # optimal = 0.20173071"
      ]
    },
    {
      "cell_type": "markdown",
      "metadata": {
        "id": "KnW3yEC8bNVe"
      },
      "source": [
        "### Testing the Optimizer which acts as a meta-learner:"
      ]
    },
    {
      "cell_type": "code",
      "execution_count": null,
      "metadata": {
        "colab": {
          "base_uri": "https://localhost:8080/",
          "height": 555
        },
        "id": "4o8AHjxYd9TS",
        "outputId": "2bc3ab16-fd4c-4007-f8c7-21a55d24ea30"
      },
      "outputs": [
        {
          "name": "stdout",
          "output_type": "stream",
          "text": [
            "Parameter containing:\n",
            "tensor([0.1000], requires_grad=True)\n",
            "Parameter containing:\n",
            "tensor([0.1000], requires_grad=True)\n",
            "Parameter containing:\n",
            "tensor([0.1000], requires_grad=True)\n",
            "Parameter containing:\n",
            "tensor([0.1000], requires_grad=True)\n",
            "Parameter containing:\n",
            "tensor([0.1000], requires_grad=True)\n"
          ]
        },
        {
          "ename": "KeyboardInterrupt",
          "evalue": "ignored",
          "output_type": "error",
          "traceback": [
            "\u001b[0;31m---------------------------------------------------------------------------\u001b[0m",
            "\u001b[0;31mKeyboardInterrupt\u001b[0m                         Traceback (most recent call last)",
            "\u001b[0;32m<ipython-input-84-cac5aa2e5f0f>\u001b[0m in \u001b[0;36m<module>\u001b[0;34m\u001b[0m\n\u001b[1;32m      3\u001b[0m \u001b[0menvironment\u001b[0m \u001b[0;34m=\u001b[0m \u001b[0mDeepGridWorld\u001b[0m\u001b[0;34m(\u001b[0m\u001b[0;34m)\u001b[0m\u001b[0;34m\u001b[0m\u001b[0;34m\u001b[0m\u001b[0m\n\u001b[1;32m      4\u001b[0m \u001b[0;32mfor\u001b[0m \u001b[0mouter_trial\u001b[0m \u001b[0;32min\u001b[0m \u001b[0mrange\u001b[0m\u001b[0;34m(\u001b[0m\u001b[0;36m10\u001b[0m\u001b[0;34m)\u001b[0m\u001b[0;34m:\u001b[0m\u001b[0;34m\u001b[0m\u001b[0;34m\u001b[0m\u001b[0m\n\u001b[0;32m----> 5\u001b[0;31m   \u001b[0mmean_reward\u001b[0m\u001b[0;34m=\u001b[0m\u001b[0magent\u001b[0m\u001b[0;34m(\u001b[0m\u001b[0mparams\u001b[0m\u001b[0;34m,\u001b[0m\u001b[0mtrials\u001b[0m\u001b[0;34m=\u001b[0m\u001b[0;36m500\u001b[0m\u001b[0;34m)\u001b[0m\u001b[0;34m\u001b[0m\u001b[0;34m\u001b[0m\u001b[0m\n\u001b[0m\u001b[1;32m      6\u001b[0m   \u001b[0mloss\u001b[0m\u001b[0;34m=\u001b[0m\u001b[0;34m-\u001b[0m\u001b[0mmean_reward\u001b[0m\u001b[0;34m\u001b[0m\u001b[0;34m\u001b[0m\u001b[0m\n\u001b[1;32m      7\u001b[0m   \u001b[0moptimizer\u001b[0m\u001b[0;34m.\u001b[0m\u001b[0mzero_grad\u001b[0m\u001b[0;34m(\u001b[0m\u001b[0;34m)\u001b[0m\u001b[0;34m\u001b[0m\u001b[0;34m\u001b[0m\u001b[0m\n",
            "\u001b[0;32m/usr/local/lib/python3.8/dist-packages/torch/nn/modules/module.py\u001b[0m in \u001b[0;36m_call_impl\u001b[0;34m(self, *input, **kwargs)\u001b[0m\n\u001b[1;32m   1188\u001b[0m         if not (self._backward_hooks or self._forward_hooks or self._forward_pre_hooks or _global_backward_hooks\n\u001b[1;32m   1189\u001b[0m                 or _global_forward_hooks or _global_forward_pre_hooks):\n\u001b[0;32m-> 1190\u001b[0;31m             \u001b[0;32mreturn\u001b[0m \u001b[0mforward_call\u001b[0m\u001b[0;34m(\u001b[0m\u001b[0;34m*\u001b[0m\u001b[0minput\u001b[0m\u001b[0;34m,\u001b[0m \u001b[0;34m**\u001b[0m\u001b[0mkwargs\u001b[0m\u001b[0;34m)\u001b[0m\u001b[0;34m\u001b[0m\u001b[0;34m\u001b[0m\u001b[0m\n\u001b[0m\u001b[1;32m   1191\u001b[0m         \u001b[0;31m# Do not call functions when jit is used\u001b[0m\u001b[0;34m\u001b[0m\u001b[0;34m\u001b[0m\u001b[0;34m\u001b[0m\u001b[0m\n\u001b[1;32m   1192\u001b[0m         \u001b[0mfull_backward_hooks\u001b[0m\u001b[0;34m,\u001b[0m \u001b[0mnon_full_backward_hooks\u001b[0m \u001b[0;34m=\u001b[0m \u001b[0;34m[\u001b[0m\u001b[0;34m]\u001b[0m\u001b[0;34m,\u001b[0m \u001b[0;34m[\u001b[0m\u001b[0;34m]\u001b[0m\u001b[0;34m\u001b[0m\u001b[0;34m\u001b[0m\u001b[0m\n",
            "\u001b[0;32m<ipython-input-81-b1d87ceff230>\u001b[0m in \u001b[0;36mforward\u001b[0;34m(self, x, trials)\u001b[0m\n\u001b[1;32m     82\u001b[0m       \u001b[0;31m# self.weight_2=x[2]\u001b[0m\u001b[0;34m\u001b[0m\u001b[0;34m\u001b[0m\u001b[0;34m\u001b[0m\u001b[0m\n\u001b[1;32m     83\u001b[0m       \u001b[0;31m#self.aspiration = x\u001b[0m\u001b[0;34m\u001b[0m\u001b[0;34m\u001b[0m\u001b[0;34m\u001b[0m\u001b[0m\n\u001b[0;32m---> 84\u001b[0;31m       \u001b[0mrewards\u001b[0m\u001b[0;34m=\u001b[0m\u001b[0mself\u001b[0m\u001b[0;34m.\u001b[0m\u001b[0mplay\u001b[0m\u001b[0;34m(\u001b[0m\u001b[0mtrials\u001b[0m\u001b[0;34m=\u001b[0m\u001b[0mtrials\u001b[0m\u001b[0;34m,\u001b[0m\u001b[0mlearn\u001b[0m\u001b[0;34m=\u001b[0m\u001b[0;32mTrue\u001b[0m\u001b[0;34m)\u001b[0m\u001b[0;34m\u001b[0m\u001b[0;34m\u001b[0m\u001b[0m\n\u001b[0m\u001b[1;32m     85\u001b[0m       \u001b[0;31m#tensor_reward=torch.tensor(rewards,requires_grad=True)\u001b[0m\u001b[0;34m\u001b[0m\u001b[0;34m\u001b[0m\u001b[0;34m\u001b[0m\u001b[0m\n\u001b[1;32m     86\u001b[0m      \u001b[0;31m# mean_reward = torch.tensor(torch.mean(tensor_reward), requires_grad=True). #sourceTensor.clone().detach().requires_grad_(True)\u001b[0m\u001b[0;34m\u001b[0m\u001b[0;34m\u001b[0m\u001b[0;34m\u001b[0m\u001b[0m\n",
            "\u001b[0;32m<ipython-input-81-b1d87ceff230>\u001b[0m in \u001b[0;36mplay\u001b[0;34m(self, trials, max_steps_per_episode, learn)\u001b[0m\n\u001b[1;32m     62\u001b[0m \u001b[0;34m\u001b[0m\u001b[0m\n\u001b[1;32m     63\u001b[0m               \u001b[0;32mif\u001b[0m \u001b[0mlearn\u001b[0m \u001b[0;34m==\u001b[0m \u001b[0;32mTrue\u001b[0m\u001b[0;34m:\u001b[0m \u001b[0;31m# Update Q-values if learning is specified\u001b[0m\u001b[0;34m\u001b[0m\u001b[0;34m\u001b[0m\u001b[0m\n\u001b[0;32m---> 64\u001b[0;31m                   \u001b[0mself\u001b[0m\u001b[0;34m.\u001b[0m\u001b[0mlearn\u001b[0m\u001b[0;34m(\u001b[0m\u001b[0mold_state\u001b[0m\u001b[0;34m,\u001b[0m \u001b[0mreward\u001b[0m\u001b[0;34m,\u001b[0m \u001b[0mnew_state\u001b[0m\u001b[0;34m,\u001b[0m \u001b[0maction\u001b[0m\u001b[0;34m)\u001b[0m\u001b[0;34m\u001b[0m\u001b[0;34m\u001b[0m\u001b[0m\n\u001b[0m\u001b[1;32m     65\u001b[0m \u001b[0;34m\u001b[0m\u001b[0m\n\u001b[1;32m     66\u001b[0m               \u001b[0mcumulative_reward\u001b[0m \u001b[0;34m+=\u001b[0m \u001b[0mreward\u001b[0m\u001b[0;34m\u001b[0m\u001b[0;34m\u001b[0m\u001b[0m\n",
            "\u001b[0;32m<ipython-input-81-b1d87ceff230>\u001b[0m in \u001b[0;36mlearn\u001b[0;34m(self, old_state, reward, new_state, action)\u001b[0m\n\u001b[1;32m     39\u001b[0m         \u001b[0mcurrent_q_value\u001b[0m \u001b[0;34m=\u001b[0m \u001b[0mself\u001b[0m\u001b[0;34m.\u001b[0m\u001b[0mq_table\u001b[0m\u001b[0;34m[\u001b[0m\u001b[0mold_state\u001b[0m\u001b[0;34m]\u001b[0m\u001b[0;34m[\u001b[0m\u001b[0maction\u001b[0m\u001b[0;34m]\u001b[0m\u001b[0;34m\u001b[0m\u001b[0;34m\u001b[0m\u001b[0m\n\u001b[1;32m     40\u001b[0m         \u001b[0;31m# define reward with aspiration = w_1 * reward + w_2 * (reward - aspiration)\u001b[0m\u001b[0;34m\u001b[0m\u001b[0;34m\u001b[0m\u001b[0;34m\u001b[0m\u001b[0m\n\u001b[0;32m---> 41\u001b[0;31m         \u001b[0mreward\u001b[0m \u001b[0;34m=\u001b[0m \u001b[0mself\u001b[0m\u001b[0;34m.\u001b[0m\u001b[0mget_aspiration\u001b[0m\u001b[0;34m(\u001b[0m\u001b[0mreward\u001b[0m\u001b[0;34m)\u001b[0m\u001b[0;34m\u001b[0m\u001b[0;34m\u001b[0m\u001b[0m\n\u001b[0m\u001b[1;32m     42\u001b[0m         \u001b[0mself\u001b[0m\u001b[0;34m.\u001b[0m\u001b[0mq_table\u001b[0m\u001b[0;34m.\u001b[0m\u001b[0mdata\u001b[0m\u001b[0;34m[\u001b[0m\u001b[0mold_state\u001b[0m\u001b[0;34m]\u001b[0m\u001b[0;34m[\u001b[0m\u001b[0maction\u001b[0m\u001b[0;34m]\u001b[0m \u001b[0;34m=\u001b[0m \u001b[0;34m(\u001b[0m\u001b[0;36m1\u001b[0m \u001b[0;34m-\u001b[0m \u001b[0mself\u001b[0m\u001b[0;34m.\u001b[0m\u001b[0malpha\u001b[0m\u001b[0;34m)\u001b[0m \u001b[0;34m*\u001b[0m \u001b[0mcurrent_q_value\u001b[0m \u001b[0;34m+\u001b[0m \u001b[0mself\u001b[0m\u001b[0;34m.\u001b[0m\u001b[0malpha\u001b[0m \u001b[0;34m*\u001b[0m \u001b[0;34m(\u001b[0m\u001b[0mreward\u001b[0m \u001b[0;34m+\u001b[0m \u001b[0mself\u001b[0m\u001b[0;34m.\u001b[0m\u001b[0mgamma\u001b[0m \u001b[0;34m*\u001b[0m \u001b[0mmax_q_value_in_new_state\u001b[0m\u001b[0;34m)\u001b[0m\u001b[0;34m\u001b[0m\u001b[0;34m\u001b[0m\u001b[0m\n\u001b[1;32m     43\u001b[0m \u001b[0;34m\u001b[0m\u001b[0m\n",
            "\u001b[0;32m<ipython-input-81-b1d87ceff230>\u001b[0m in \u001b[0;36mget_aspiration\u001b[0;34m(self, reward)\u001b[0m\n\u001b[1;32m     44\u001b[0m     \u001b[0;31m# Transform the reward function using the aspiration formula #Define aspiration in another way for autograd\u001b[0m\u001b[0;34m\u001b[0m\u001b[0;34m\u001b[0m\u001b[0;34m\u001b[0m\u001b[0m\n\u001b[1;32m     45\u001b[0m     \u001b[0;32mdef\u001b[0m \u001b[0mget_aspiration\u001b[0m\u001b[0;34m(\u001b[0m\u001b[0mself\u001b[0m\u001b[0;34m,\u001b[0m \u001b[0mreward\u001b[0m\u001b[0;34m)\u001b[0m\u001b[0;34m:\u001b[0m\u001b[0;34m\u001b[0m\u001b[0;34m\u001b[0m\u001b[0m\n\u001b[0;32m---> 46\u001b[0;31m       \u001b[0;32mreturn\u001b[0m \u001b[0mself\u001b[0m\u001b[0;34m.\u001b[0m\u001b[0mweight_1\u001b[0m \u001b[0;34m*\u001b[0m \u001b[0mreward\u001b[0m \u001b[0;34m+\u001b[0m \u001b[0mself\u001b[0m\u001b[0;34m.\u001b[0m\u001b[0mweight_2\u001b[0m \u001b[0;34m*\u001b[0m \u001b[0;34m(\u001b[0m\u001b[0mreward\u001b[0m \u001b[0;34m-\u001b[0m \u001b[0mself\u001b[0m\u001b[0;34m.\u001b[0m\u001b[0maspiration\u001b[0m\u001b[0;34m)\u001b[0m\u001b[0;34m\u001b[0m\u001b[0;34m\u001b[0m\u001b[0m\n\u001b[0m\u001b[1;32m     47\u001b[0m \u001b[0;34m\u001b[0m\u001b[0m\n\u001b[1;32m     48\u001b[0m     \u001b[0;32mdef\u001b[0m \u001b[0mplay\u001b[0m\u001b[0;34m(\u001b[0m\u001b[0mself\u001b[0m\u001b[0;34m,\u001b[0m\u001b[0mtrials\u001b[0m\u001b[0;34m=\u001b[0m\u001b[0;36m500\u001b[0m\u001b[0;34m,\u001b[0m \u001b[0mmax_steps_per_episode\u001b[0m\u001b[0;34m=\u001b[0m\u001b[0;36m1000\u001b[0m\u001b[0;34m,\u001b[0m \u001b[0mlearn\u001b[0m\u001b[0;34m=\u001b[0m\u001b[0;32mFalse\u001b[0m\u001b[0;34m)\u001b[0m\u001b[0;34m:\u001b[0m\u001b[0;34m\u001b[0m\u001b[0;34m\u001b[0m\u001b[0m\n",
            "\u001b[0;32m/usr/local/lib/python3.8/dist-packages/torch/_tensor.py\u001b[0m in \u001b[0;36mwrapped\u001b[0;34m(*args, **kwargs)\u001b[0m\n\u001b[1;32m     37\u001b[0m             \u001b[0;32mif\u001b[0m \u001b[0mhas_torch_function\u001b[0m\u001b[0;34m(\u001b[0m\u001b[0margs\u001b[0m\u001b[0;34m)\u001b[0m\u001b[0;34m:\u001b[0m\u001b[0;34m\u001b[0m\u001b[0;34m\u001b[0m\u001b[0m\n\u001b[1;32m     38\u001b[0m                 \u001b[0;32mreturn\u001b[0m \u001b[0mhandle_torch_function\u001b[0m\u001b[0;34m(\u001b[0m\u001b[0mwrapped\u001b[0m\u001b[0;34m,\u001b[0m \u001b[0margs\u001b[0m\u001b[0;34m,\u001b[0m \u001b[0;34m*\u001b[0m\u001b[0margs\u001b[0m\u001b[0;34m,\u001b[0m \u001b[0;34m**\u001b[0m\u001b[0mkwargs\u001b[0m\u001b[0;34m)\u001b[0m\u001b[0;34m\u001b[0m\u001b[0;34m\u001b[0m\u001b[0m\n\u001b[0;32m---> 39\u001b[0;31m             \u001b[0;32mreturn\u001b[0m \u001b[0mf\u001b[0m\u001b[0;34m(\u001b[0m\u001b[0;34m*\u001b[0m\u001b[0margs\u001b[0m\u001b[0;34m,\u001b[0m \u001b[0;34m**\u001b[0m\u001b[0mkwargs\u001b[0m\u001b[0;34m)\u001b[0m\u001b[0;34m\u001b[0m\u001b[0;34m\u001b[0m\u001b[0m\n\u001b[0m\u001b[1;32m     40\u001b[0m         \u001b[0;32mexcept\u001b[0m \u001b[0mTypeError\u001b[0m\u001b[0;34m:\u001b[0m\u001b[0;34m\u001b[0m\u001b[0;34m\u001b[0m\u001b[0m\n\u001b[1;32m     41\u001b[0m             \u001b[0;32mreturn\u001b[0m \u001b[0mNotImplemented\u001b[0m\u001b[0;34m\u001b[0m\u001b[0;34m\u001b[0m\u001b[0m\n",
            "\u001b[0;31mKeyboardInterrupt\u001b[0m: "
          ]
        }
      ],
      "source": [
        "params=nn.Parameter(torch.tensor([0.1], requires_grad=True))\n",
        "optimizer=torch.optim.SGD([agent.aspiration],lr=0.1,momentum=0.9)\n",
        "environment = DeepGridWorld()\n",
        "for outer_trial in range(10):\n",
        "  mean_reward=agent(params,trials=500)\n",
        "  loss=-mean_reward\n",
        "  optimizer.zero_grad()\n",
        "  loss.backward()\n",
        "  optimizer.step() \n",
        "  print(agent.aspiration)\n",
        "\n",
        "  \n",
        "\n",
        "\n"
      ]
    },
    {
      "cell_type": "code",
      "execution_count": null,
      "metadata": {
        "colab": {
          "base_uri": "https://localhost:8080/"
        },
        "id": "U9-4Q8YehjDu",
        "outputId": "ec6ef709-b029-489b-f241-5f14e8a6a9d3"
      },
      "outputs": [
        {
          "data": {
            "text/plain": [
              "tensor([1.0000, 1.0000, 0.0500], grad_fn=<StackBackward0>)"
            ]
          },
          "execution_count": 22,
          "metadata": {},
          "output_type": "execute_result"
        }
      ],
      "source": [
        "weight_1=nn.Parameter(torch.tensor(1.0))\n",
        "weight_2=nn.Parameter(torch.tensor(1.0))\n",
        "aspiration=nn.Parameter(torch.tensor(0.05))\n"
      ]
    },
    {
      "cell_type": "code",
      "execution_count": null,
      "metadata": {
        "colab": {
          "base_uri": "https://localhost:8080/",
          "height": 520
        },
        "id": "wdEcqT7ehvBg",
        "outputId": "88ffe289-a662-42fc-ab17-f77e6041b135"
      },
      "outputs": [
        {
          "name": "stdout",
          "output_type": "stream",
          "text": [
            "Parameter containing:\n",
            "tensor([0.1000], requires_grad=True)\n",
            "Parameter containing:\n",
            "tensor([0.1000], requires_grad=True)\n",
            "Parameter containing:\n",
            "tensor([0.1000], requires_grad=True)\n",
            "Parameter containing:\n",
            "tensor([0.1000], requires_grad=True)\n"
          ]
        },
        {
          "ename": "KeyboardInterrupt",
          "evalue": "ignored",
          "output_type": "error",
          "traceback": [
            "\u001b[0;31m---------------------------------------------------------------------------\u001b[0m",
            "\u001b[0;31mKeyboardInterrupt\u001b[0m                         Traceback (most recent call last)",
            "\u001b[0;32m<ipython-input-56-3abf6fc059b5>\u001b[0m in \u001b[0;36m<module>\u001b[0;34m\u001b[0m\n\u001b[1;32m      5\u001b[0m   \u001b[0menvironment\u001b[0m\u001b[0;34m.\u001b[0m\u001b[0m__init__\u001b[0m\u001b[0;34m(\u001b[0m\u001b[0;34m)\u001b[0m\u001b[0;34m\u001b[0m\u001b[0;34m\u001b[0m\u001b[0m\n\u001b[1;32m      6\u001b[0m   \u001b[0moptimizer\u001b[0m\u001b[0;34m.\u001b[0m\u001b[0mzero_grad\u001b[0m\u001b[0;34m(\u001b[0m\u001b[0;34m)\u001b[0m\u001b[0;34m\u001b[0m\u001b[0;34m\u001b[0m\u001b[0m\n\u001b[0;32m----> 7\u001b[0;31m   \u001b[0mmean_reward\u001b[0m\u001b[0;34m=\u001b[0m\u001b[0magent\u001b[0m\u001b[0;34m(\u001b[0m\u001b[0mparams\u001b[0m\u001b[0;34m,\u001b[0m\u001b[0mtrials\u001b[0m\u001b[0;34m=\u001b[0m\u001b[0;36m500\u001b[0m\u001b[0;34m)\u001b[0m\u001b[0;34m\u001b[0m\u001b[0;34m\u001b[0m\u001b[0m\n\u001b[0m\u001b[1;32m      8\u001b[0m   \u001b[0mnegative_mean_reward\u001b[0m\u001b[0;34m=\u001b[0m\u001b[0;34m-\u001b[0m\u001b[0mmean_reward\u001b[0m\u001b[0;34m\u001b[0m\u001b[0;34m\u001b[0m\u001b[0m\n\u001b[1;32m      9\u001b[0m   \u001b[0mnegative_mean_reward\u001b[0m\u001b[0;34m.\u001b[0m\u001b[0mbackward\u001b[0m\u001b[0;34m(\u001b[0m\u001b[0;34m)\u001b[0m\u001b[0;34m\u001b[0m\u001b[0;34m\u001b[0m\u001b[0m\n",
            "\u001b[0;32m/usr/local/lib/python3.8/dist-packages/torch/nn/modules/module.py\u001b[0m in \u001b[0;36m_call_impl\u001b[0;34m(self, *input, **kwargs)\u001b[0m\n\u001b[1;32m   1188\u001b[0m         if not (self._backward_hooks or self._forward_hooks or self._forward_pre_hooks or _global_backward_hooks\n\u001b[1;32m   1189\u001b[0m                 or _global_forward_hooks or _global_forward_pre_hooks):\n\u001b[0;32m-> 1190\u001b[0;31m             \u001b[0;32mreturn\u001b[0m \u001b[0mforward_call\u001b[0m\u001b[0;34m(\u001b[0m\u001b[0;34m*\u001b[0m\u001b[0minput\u001b[0m\u001b[0;34m,\u001b[0m \u001b[0;34m**\u001b[0m\u001b[0mkwargs\u001b[0m\u001b[0;34m)\u001b[0m\u001b[0;34m\u001b[0m\u001b[0;34m\u001b[0m\u001b[0m\n\u001b[0m\u001b[1;32m   1191\u001b[0m         \u001b[0;31m# Do not call functions when jit is used\u001b[0m\u001b[0;34m\u001b[0m\u001b[0;34m\u001b[0m\u001b[0;34m\u001b[0m\u001b[0m\n\u001b[1;32m   1192\u001b[0m         \u001b[0mfull_backward_hooks\u001b[0m\u001b[0;34m,\u001b[0m \u001b[0mnon_full_backward_hooks\u001b[0m \u001b[0;34m=\u001b[0m \u001b[0;34m[\u001b[0m\u001b[0;34m]\u001b[0m\u001b[0;34m,\u001b[0m \u001b[0;34m[\u001b[0m\u001b[0;34m]\u001b[0m\u001b[0;34m\u001b[0m\u001b[0;34m\u001b[0m\u001b[0m\n",
            "\u001b[0;32m<ipython-input-53-b1d87ceff230>\u001b[0m in \u001b[0;36mforward\u001b[0;34m(self, x, trials)\u001b[0m\n\u001b[1;32m     82\u001b[0m       \u001b[0;31m# self.weight_2=x[2]\u001b[0m\u001b[0;34m\u001b[0m\u001b[0;34m\u001b[0m\u001b[0;34m\u001b[0m\u001b[0m\n\u001b[1;32m     83\u001b[0m       \u001b[0;31m#self.aspiration = x\u001b[0m\u001b[0;34m\u001b[0m\u001b[0;34m\u001b[0m\u001b[0;34m\u001b[0m\u001b[0m\n\u001b[0;32m---> 84\u001b[0;31m       \u001b[0mrewards\u001b[0m\u001b[0;34m=\u001b[0m\u001b[0mself\u001b[0m\u001b[0;34m.\u001b[0m\u001b[0mplay\u001b[0m\u001b[0;34m(\u001b[0m\u001b[0mtrials\u001b[0m\u001b[0;34m=\u001b[0m\u001b[0mtrials\u001b[0m\u001b[0;34m,\u001b[0m\u001b[0mlearn\u001b[0m\u001b[0;34m=\u001b[0m\u001b[0;32mTrue\u001b[0m\u001b[0;34m)\u001b[0m\u001b[0;34m\u001b[0m\u001b[0;34m\u001b[0m\u001b[0m\n\u001b[0m\u001b[1;32m     85\u001b[0m       \u001b[0;31m#tensor_reward=torch.tensor(rewards,requires_grad=True)\u001b[0m\u001b[0;34m\u001b[0m\u001b[0;34m\u001b[0m\u001b[0;34m\u001b[0m\u001b[0m\n\u001b[1;32m     86\u001b[0m      \u001b[0;31m# mean_reward = torch.tensor(torch.mean(tensor_reward), requires_grad=True). #sourceTensor.clone().detach().requires_grad_(True)\u001b[0m\u001b[0;34m\u001b[0m\u001b[0;34m\u001b[0m\u001b[0;34m\u001b[0m\u001b[0m\n",
            "\u001b[0;32m<ipython-input-53-b1d87ceff230>\u001b[0m in \u001b[0;36mplay\u001b[0;34m(self, trials, max_steps_per_episode, learn)\u001b[0m\n\u001b[1;32m     62\u001b[0m \u001b[0;34m\u001b[0m\u001b[0m\n\u001b[1;32m     63\u001b[0m               \u001b[0;32mif\u001b[0m \u001b[0mlearn\u001b[0m \u001b[0;34m==\u001b[0m \u001b[0;32mTrue\u001b[0m\u001b[0;34m:\u001b[0m \u001b[0;31m# Update Q-values if learning is specified\u001b[0m\u001b[0;34m\u001b[0m\u001b[0;34m\u001b[0m\u001b[0m\n\u001b[0;32m---> 64\u001b[0;31m                   \u001b[0mself\u001b[0m\u001b[0;34m.\u001b[0m\u001b[0mlearn\u001b[0m\u001b[0;34m(\u001b[0m\u001b[0mold_state\u001b[0m\u001b[0;34m,\u001b[0m \u001b[0mreward\u001b[0m\u001b[0;34m,\u001b[0m \u001b[0mnew_state\u001b[0m\u001b[0;34m,\u001b[0m \u001b[0maction\u001b[0m\u001b[0;34m)\u001b[0m\u001b[0;34m\u001b[0m\u001b[0;34m\u001b[0m\u001b[0m\n\u001b[0m\u001b[1;32m     65\u001b[0m \u001b[0;34m\u001b[0m\u001b[0m\n\u001b[1;32m     66\u001b[0m               \u001b[0mcumulative_reward\u001b[0m \u001b[0;34m+=\u001b[0m \u001b[0mreward\u001b[0m\u001b[0;34m\u001b[0m\u001b[0;34m\u001b[0m\u001b[0m\n",
            "\u001b[0;32m<ipython-input-53-b1d87ceff230>\u001b[0m in \u001b[0;36mlearn\u001b[0;34m(self, old_state, reward, new_state, action)\u001b[0m\n\u001b[1;32m     37\u001b[0m         \u001b[0mq_values_of_state\u001b[0m \u001b[0;34m=\u001b[0m \u001b[0mself\u001b[0m\u001b[0;34m.\u001b[0m\u001b[0mq_table\u001b[0m\u001b[0;34m[\u001b[0m\u001b[0mnew_state\u001b[0m\u001b[0;34m]\u001b[0m \u001b[0;31m# index into table self.q_table[] single index numbers not tuples\u001b[0m\u001b[0;34m\u001b[0m\u001b[0;34m\u001b[0m\u001b[0m\n\u001b[1;32m     38\u001b[0m         \u001b[0mmax_q_value_in_new_state\u001b[0m \u001b[0;34m=\u001b[0m \u001b[0mtorch\u001b[0m\u001b[0;34m.\u001b[0m\u001b[0mmax\u001b[0m\u001b[0;34m(\u001b[0m\u001b[0mq_values_of_state\u001b[0m\u001b[0;34m)\u001b[0m \u001b[0;31m# q4\u001b[0m\u001b[0;34m\u001b[0m\u001b[0;34m\u001b[0m\u001b[0m\n\u001b[0;32m---> 39\u001b[0;31m         \u001b[0mcurrent_q_value\u001b[0m \u001b[0;34m=\u001b[0m \u001b[0mself\u001b[0m\u001b[0;34m.\u001b[0m\u001b[0mq_table\u001b[0m\u001b[0;34m[\u001b[0m\u001b[0mold_state\u001b[0m\u001b[0;34m]\u001b[0m\u001b[0;34m[\u001b[0m\u001b[0maction\u001b[0m\u001b[0;34m]\u001b[0m\u001b[0;34m\u001b[0m\u001b[0;34m\u001b[0m\u001b[0m\n\u001b[0m\u001b[1;32m     40\u001b[0m         \u001b[0;31m# define reward with aspiration = w_1 * reward + w_2 * (reward - aspiration)\u001b[0m\u001b[0;34m\u001b[0m\u001b[0;34m\u001b[0m\u001b[0;34m\u001b[0m\u001b[0m\n\u001b[1;32m     41\u001b[0m         \u001b[0mreward\u001b[0m \u001b[0;34m=\u001b[0m \u001b[0mself\u001b[0m\u001b[0;34m.\u001b[0m\u001b[0mget_aspiration\u001b[0m\u001b[0;34m(\u001b[0m\u001b[0mreward\u001b[0m\u001b[0;34m)\u001b[0m\u001b[0;34m\u001b[0m\u001b[0;34m\u001b[0m\u001b[0m\n",
            "\u001b[0;31mKeyboardInterrupt\u001b[0m: "
          ]
        }
      ],
      "source": [
        "params=nn.Parameter(torch.tensor([0.0]),requires_grad=True)\n",
        "optimizer=torch.optim.Adam([params], lr = 0.1)\n",
        "environment = DeepGridWorld()\n",
        "for outer_trial in range(10):\n",
        "  environment.__init__()\n",
        "  optimizer.zero_grad()\n",
        "  mean_reward=agent(params,trials=500)\n",
        "  negative_mean_reward=-mean_reward\n",
        "  negative_mean_reward.backward()\n",
        "  optimizer.step() \n",
        "  print(agent.aspiration)\n",
        "  "
      ]
    },
    {
      "cell_type": "code",
      "execution_count": null,
      "metadata": {
        "id": "4ElgPf78LAwU"
      },
      "outputs": [],
      "source": [
        "import torch\n",
        "\n",
        "# Define a PyTorch model for the gamma value\n",
        "class GammaModel(torch.nn.Module):\n",
        "  def __init__(self):\n",
        "    super(GammaModel, self).__init__()\n",
        "    self.gamma = torch.nn.Parameter(torch.tensor(0.5))\n",
        "  \n",
        "  def forward(self):\n",
        "    return self.gamma\n",
        "\n",
        "# Define a function for evaluating the performance of the gamma model\n",
        "def evaluate_gamma_model(model, env, agent, num_episodes):\n",
        "  total_reward = 0\n",
        "  for i in range(num_episodes):\n",
        "    state = env.reset()\n",
        "    done = False\n",
        "    while not done:\n",
        "      action = agent.act(state, gamma=model())\n",
        "      next_state, reward, done, _ = env.step(action)\n",
        "      total_reward += reward\n",
        "      state = next_state\n",
        "  return total_reward\n",
        "\n",
        "# Define a function for training the gamma model\n",
        "def train_gamma_model(model, optimizer, env, agent, num_episodes, num_iterations):\n",
        "  for i in range(num_iterations):\n",
        "    optimizer.zero_grad()\n",
        "    reward = evaluate_gamma_model(model, env, agent, num_episodes)\n",
        "    loss = -reward  # maximize reward by minimizing the negative reward\n",
        "    loss.backward()\n",
        "    optimizer.step()\n",
        "\n",
        "# Create the gamma model and optimizer\n",
        "model = GammaModel()\n",
        "optimizer = torch.optim.Adam(model.parameters(), lr=0.1)\n",
        "\n",
        "# Train the gamma model\n",
        "train_gamma_model(model, optimizer, env, agent, num_episodes=100, num_iterations=100)\n",
        "\n",
        "# The trained model's gamma value is the optimal gamma value\n",
        "optimal_gamma = model()"
      ]
    }
  ],
  "metadata": {
    "accelerator": "GPU",
    "colab": {
      "machine_shape": "hm",
      "provenance": [],
      "include_colab_link": true
    },
    "gpuClass": "premium",
    "kernelspec": {
      "display_name": "Python 3",
      "name": "python3"
    },
    "language_info": {
      "name": "python"
    }
  },
  "nbformat": 4,
  "nbformat_minor": 0
}